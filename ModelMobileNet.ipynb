{
  "nbformat": 4,
  "nbformat_minor": 0,
  "metadata": {
    "colab": {
      "provenance": [],
      "gpuType": "T4"
    },
    "kernelspec": {
      "name": "python3",
      "display_name": "Python 3"
    },
    "language_info": {
      "name": "python"
    },
    "accelerator": "GPU"
  },
  "cells": [
    {
      "cell_type": "markdown",
      "source": [
        "# **Sign Language Real-Time Video Detection Project**\n",
        "\n",
        "***************************************\n",
        "**Team ID**: C241-PS342\n",
        "\n",
        "**ML Team**:\n",
        "\n",
        "  1. Fira Areta Apsarini (M004D4KX2469)\n",
        "  2. Nadhira Apta Maheswari (M004D4KX1449)\n",
        "  3. Keysa Anadea Aqiva Ajie (M004D4KX2378)"
      ],
      "metadata": {
        "id": "xVDGp0em9wd5"
      }
    },
    {
      "cell_type": "markdown",
      "source": [
        "## **1. Dataset**\n",
        "\n",
        "This project utilizes a combined dataset to develop a comprehensive model for recognizing BISINDO sign language alphabets. The dataset consist  of BISINDO sign language alphabet photos that comprises from two main sources: self-collected photos by each Machine Learning team member, and we integrated our self-collected data with a dataset from Kaggle, available at https://www.kaggle.com/datasets/achmadnoer/alfabet-bisindo <br>\n",
        "Our public dataset can be accessed at https://drive.google.com/file/d/1RiUNRaQ4TVyt4vfUzIBHsAdrg0E6d6f9/view?usp=drive_link"
      ],
      "metadata": {
        "id": "-3-aNYLs9x9s"
      }
    },
    {
      "cell_type": "markdown",
      "source": [
        "## **2. Data Loading**"
      ],
      "metadata": {
        "id": "FreeCpHW93Uz"
      }
    },
    {
      "cell_type": "markdown",
      "source": [
        "### 2.1 Install Spesific Tensorflow Version"
      ],
      "metadata": {
        "id": "TC9q44Ug94UT"
      }
    },
    {
      "cell_type": "code",
      "source": [
        "# !pip install tensorflow==2.8.3"
      ],
      "metadata": {
        "id": "Q-oDC-IgP7GK",
        "collapsed": true
      },
      "execution_count": null,
      "outputs": []
    },
    {
      "cell_type": "code",
      "source": [
        "import tensorflow as tf\n",
        "print(tf.__version__)"
      ],
      "metadata": {
        "id": "cNU9HI2-P9PL",
        "colab": {
          "base_uri": "https://localhost:8080/"
        },
        "outputId": "5294fe4e-3ed4-4947-ffe2-75496a19f3ce"
      },
      "execution_count": null,
      "outputs": [
        {
          "output_type": "stream",
          "name": "stdout",
          "text": [
            "2.15.0\n"
          ]
        }
      ]
    },
    {
      "cell_type": "markdown",
      "source": [
        "### 2.2 Import Libraries"
      ],
      "metadata": {
        "id": "xiEdvuRZ-AiH"
      }
    },
    {
      "cell_type": "code",
      "source": [
        "import keras\n",
        "import tensorflow as tf\n",
        "import cv2\n",
        "from tensorflow import keras\n",
        "from keras.datasets import mnist\n",
        "from keras.layers import Conv2D, MaxPooling2D, AveragePooling2D\n",
        "from keras.layers import Dense, Flatten\n",
        "from keras import optimizers\n",
        "from keras.models import Sequential\n",
        "from keras.layers import Input, Lambda, Dense, Flatten\n",
        "from keras.models import Model\n",
        "from keras.preprocessing import image\n",
        "from keras.preprocessing.image import ImageDataGenerator\n",
        "from tensorflow.keras.preprocessing.image import ImageDataGenerator, img_to_array, load_img\n",
        "from keras.models import Sequential\n",
        "from tensorflow.keras.applications import MobileNet\n",
        "from tensorflow.keras.applications.mobilenet import preprocess_input\n",
        "import numpy as np\n",
        "import os\n",
        "import zipfile\n",
        "import shutil\n",
        "import gdown\n",
        "from glob import glob\n",
        "import matplotlib.pyplot as plt\n",
        "from keras.preprocessing.image import ImageDataGenerator\n",
        "from google.colab import files\n",
        "from sklearn.model_selection import train_test_split"
      ],
      "metadata": {
        "id": "j7LRSJg6QBwZ"
      },
      "execution_count": null,
      "outputs": []
    },
    {
      "cell_type": "markdown",
      "source": [
        "### 2.3 Download Dataset"
      ],
      "metadata": {
        "id": "EYOh7f4I-HYl"
      }
    },
    {
      "cell_type": "code",
      "source": [
        "# Mengunduh file menggunakan gdown\n",
        "gdown.download('https://drive.google.com/uc?id=1RiUNRaQ4TVyt4vfUzIBHsAdrg0E6d6f9', '/content/data.zip', quiet=False)\n",
        "\n",
        "# Ekstrak file zip\n",
        "local_zip = '/content/data.zip'\n",
        "with zipfile.ZipFile(local_zip, 'r') as zip_ref:\n",
        "    zip_ref.extractall('dataset')"
      ],
      "metadata": {
        "colab": {
          "base_uri": "https://localhost:8080/"
        },
        "id": "LQVrtpuqYwOE",
        "outputId": "87b2ed81-50b0-4465-b40d-4ffe0ebb5370"
      },
      "execution_count": null,
      "outputs": [
        {
          "output_type": "stream",
          "name": "stderr",
          "text": [
            "Downloading...\n",
            "From (original): https://drive.google.com/uc?id=1RiUNRaQ4TVyt4vfUzIBHsAdrg0E6d6f9\n",
            "From (redirected): https://drive.google.com/uc?id=1RiUNRaQ4TVyt4vfUzIBHsAdrg0E6d6f9&confirm=t&uuid=e5ab0111-6e9e-4454-b417-c0769b79caab\n",
            "To: /content/data.zip\n",
            "100%|██████████| 3.23G/3.23G [00:29<00:00, 111MB/s] \n"
          ]
        }
      ]
    },
    {
      "cell_type": "code",
      "source": [
        "# Path ke dataset yang diekstraksi\n",
        "dataset_path = 'dataset'\n",
        "organized_dataset_path = 'organized_dataset'\n",
        "\n",
        "# Membuat direktori baru untuk dataset yang diatur ulang\n",
        "os.makedirs(organized_dataset_path, exist_ok=True)\n",
        "\n",
        "# Mengidentifikasi dan memindahkan gambar ke subfolder berdasarkan huruf pertama\n",
        "for file_name in os.listdir(dataset_path):\n",
        "    if file_name.endswith('.jpg') or file_name.endswith('.png'):\n",
        "        label = file_name[0]  # Mengambil karakter pertama dari nama file\n",
        "        label_folder = os.path.join(organized_dataset_path, label)\n",
        "        os.makedirs(label_folder, exist_ok=True)\n",
        "        shutil.move(os.path.join(dataset_path, file_name), os.path.join(label_folder, file_name))"
      ],
      "metadata": {
        "id": "Q_xTkrdzYyjT"
      },
      "execution_count": null,
      "outputs": []
    },
    {
      "cell_type": "code",
      "source": [
        "# Direktori untuk training dan validation\n",
        "train_path = 'dataset/train'\n",
        "val_path = 'dataset/validation'\n",
        "\n",
        "os.makedirs(train_path, exist_ok=True)\n",
        "os.makedirs(val_path, exist_ok=True)\n",
        "\n",
        "# Membuat subfolder untuk setiap alfabet di dalam training dan validation\n",
        "for label in os.listdir(organized_dataset_path):\n",
        "    os.makedirs(os.path.join(train_path, label), exist_ok=True)\n",
        "    os.makedirs(os.path.join(val_path, label), exist_ok=True)\n",
        "\n",
        "    # Mendapatkan semua file dalam subfolder\n",
        "    file_names = os.listdir(os.path.join(organized_dataset_path, label))\n",
        "\n",
        "    # Membagi file menjadi training dan validation sets\n",
        "    train_files, val_files = train_test_split(file_names, test_size=0.2, random_state=42)\n",
        "\n",
        "    # Memindahkan file ke masing-masing folder\n",
        "    for file_name in train_files:\n",
        "        shutil.move(os.path.join(organized_dataset_path, label, file_name), os.path.join(train_path, label, file_name))\n",
        "    for file_name in val_files:\n",
        "        shutil.move(os.path.join(organized_dataset_path, label, file_name), os.path.join(val_path, label, file_name))"
      ],
      "metadata": {
        "id": "3b3q_E04ZGcd"
      },
      "execution_count": null,
      "outputs": []
    },
    {
      "cell_type": "code",
      "source": [
        "# Define the directory path\n",
        "directory ='/content/dataset/validation/A'\n",
        "\n",
        "# Check if the directory exists\n",
        "if os.path.exists(directory):\n",
        "    # Count the number of files in the directory\n",
        "    num_files = len([f for f in os.listdir(directory) if os.path.isfile(os.path.join(directory, f))])\n",
        "    print(f\"Number of files: {num_files}\")\n",
        "else:\n",
        "    print(\"Directory not found\")"
      ],
      "metadata": {
        "colab": {
          "base_uri": "https://localhost:8080/"
        },
        "id": "l5ZqExVcZIj0",
        "outputId": "847f4eba-92e4-46b7-ae70-3df037fc9ff7"
      },
      "execution_count": null,
      "outputs": [
        {
          "output_type": "stream",
          "name": "stdout",
          "text": [
            "Number of files: 30\n"
          ]
        }
      ]
    },
    {
      "cell_type": "markdown",
      "source": [
        "## **3. Data Pre-processing**"
      ],
      "metadata": {
        "id": "hl-xFhoy-bGM"
      }
    },
    {
      "cell_type": "code",
      "source": [
        "\n",
        "train_datagen = ImageDataGenerator(rescale=1/255)\n",
        "validation_datagen = ImageDataGenerator(rescale=1/255)\n",
        "\n",
        "\n",
        "validation_split =0.2 #0.3\n",
        "#import for training dataset\n",
        "training_set = train_datagen.flow_from_directory('dataset/train',\n",
        "                                                 target_size = (224, 224),\n",
        "                                                 batch_size = 1,\n",
        "                                                 class_mode = 'categorical')\n",
        "\n",
        "#import for validation dataset\n",
        "validation_set = validation_datagen.flow_from_directory('dataset/validation',\n",
        "                                                 target_size = (224, 224),\n",
        "                                                 batch_size = 1,\n",
        "                                                 class_mode = 'categorical')\n",
        "\n",
        "\n",
        "STEP_SIZE_TRAIN=training_set.n//training_set.batch_size\n",
        "STEP_SIZE_VALID=validation_set.n//validation_set.batch_size\n",
        "#STEP_SIZE_TEST=test_set.n//test_set.batch_size\n",
        "validation_set.class_indices\n",
        "#indices the label"
      ],
      "metadata": {
        "colab": {
          "base_uri": "https://localhost:8080/"
        },
        "id": "fD9KoQuFbg_A",
        "outputId": "0008442c-95b5-4ec2-d092-cd407e30faff"
      },
      "execution_count": null,
      "outputs": [
        {
          "output_type": "stream",
          "name": "stdout",
          "text": [
            "Found 3108 images belonging to 26 classes.\n",
            "Found 777 images belonging to 26 classes.\n"
          ]
        },
        {
          "output_type": "execute_result",
          "data": {
            "text/plain": [
              "{'A': 0,\n",
              " 'B': 1,\n",
              " 'C': 2,\n",
              " 'D': 3,\n",
              " 'E': 4,\n",
              " 'F': 5,\n",
              " 'G': 6,\n",
              " 'H': 7,\n",
              " 'I': 8,\n",
              " 'J': 9,\n",
              " 'K': 10,\n",
              " 'L': 11,\n",
              " 'M': 12,\n",
              " 'N': 13,\n",
              " 'O': 14,\n",
              " 'P': 15,\n",
              " 'Q': 16,\n",
              " 'R': 17,\n",
              " 'S': 18,\n",
              " 'T': 19,\n",
              " 'U': 20,\n",
              " 'V': 21,\n",
              " 'W': 22,\n",
              " 'X': 23,\n",
              " 'Y': 24,\n",
              " 'Z': 25}"
            ]
          },
          "metadata": {},
          "execution_count": 8
        }
      ]
    },
    {
      "cell_type": "markdown",
      "source": [
        "## **4. Modelling Using MobileNet**"
      ],
      "metadata": {
        "id": "7glPyuTH-k0i"
      }
    },
    {
      "cell_type": "code",
      "source": [
        "IMAGE_SIZE = [224, 224] #size of images\n",
        "mobilenet = MobileNet(input_shape=IMAGE_SIZE + [3], weights='imagenet', include_top=False) #initiation of import MobileNet\n",
        "\n",
        "#ADDING FOR CUSTOM LAYERS\n",
        "for layer in mobilenet.layers:\n",
        "    layer.trainable = False\n",
        "\n",
        "x = Flatten()(mobilenet.output)\n",
        "\n",
        "prediction = Dense(26, activation='softmax')(x) #initiation for number of maximal output dense\n",
        "model = Model(inputs=mobilenet.input, outputs=prediction)\n",
        "\n",
        "model.compile(loss='categorical_crossentropy', #categorical_crosentropy is for multilabel (over than 2 classes)\n",
        "                    optimizer=tf.optimizers.Adam(0.001), #learning rate (estimation/iteration)\n",
        "                    metrics=['accuracy'])\n",
        "model.summary()"
      ],
      "metadata": {
        "colab": {
          "base_uri": "https://localhost:8080/"
        },
        "id": "MsweBALMuhgN",
        "outputId": "5606aad1-3d55-45c8-dc52-0adfb763ce9b"
      },
      "execution_count": null,
      "outputs": [
        {
          "output_type": "stream",
          "name": "stdout",
          "text": [
            "Downloading data from https://storage.googleapis.com/tensorflow/keras-applications/mobilenet/mobilenet_1_0_224_tf_no_top.h5\n",
            "17225924/17225924 [==============================] - 0s 0us/step\n",
            "Model: \"model\"\n",
            "_________________________________________________________________\n",
            " Layer (type)                Output Shape              Param #   \n",
            "=================================================================\n",
            " input_1 (InputLayer)        [(None, 224, 224, 3)]     0         \n",
            "                                                                 \n",
            " conv1 (Conv2D)              (None, 112, 112, 32)      864       \n",
            "                                                                 \n",
            " conv1_bn (BatchNormalizati  (None, 112, 112, 32)      128       \n",
            " on)                                                             \n",
            "                                                                 \n",
            " conv1_relu (ReLU)           (None, 112, 112, 32)      0         \n",
            "                                                                 \n",
            " conv_dw_1 (DepthwiseConv2D  (None, 112, 112, 32)      288       \n",
            " )                                                               \n",
            "                                                                 \n",
            " conv_dw_1_bn (BatchNormali  (None, 112, 112, 32)      128       \n",
            " zation)                                                         \n",
            "                                                                 \n",
            " conv_dw_1_relu (ReLU)       (None, 112, 112, 32)      0         \n",
            "                                                                 \n",
            " conv_pw_1 (Conv2D)          (None, 112, 112, 64)      2048      \n",
            "                                                                 \n",
            " conv_pw_1_bn (BatchNormali  (None, 112, 112, 64)      256       \n",
            " zation)                                                         \n",
            "                                                                 \n",
            " conv_pw_1_relu (ReLU)       (None, 112, 112, 64)      0         \n",
            "                                                                 \n",
            " conv_pad_2 (ZeroPadding2D)  (None, 113, 113, 64)      0         \n",
            "                                                                 \n",
            " conv_dw_2 (DepthwiseConv2D  (None, 56, 56, 64)        576       \n",
            " )                                                               \n",
            "                                                                 \n",
            " conv_dw_2_bn (BatchNormali  (None, 56, 56, 64)        256       \n",
            " zation)                                                         \n",
            "                                                                 \n",
            " conv_dw_2_relu (ReLU)       (None, 56, 56, 64)        0         \n",
            "                                                                 \n",
            " conv_pw_2 (Conv2D)          (None, 56, 56, 128)       8192      \n",
            "                                                                 \n",
            " conv_pw_2_bn (BatchNormali  (None, 56, 56, 128)       512       \n",
            " zation)                                                         \n",
            "                                                                 \n",
            " conv_pw_2_relu (ReLU)       (None, 56, 56, 128)       0         \n",
            "                                                                 \n",
            " conv_dw_3 (DepthwiseConv2D  (None, 56, 56, 128)       1152      \n",
            " )                                                               \n",
            "                                                                 \n",
            " conv_dw_3_bn (BatchNormali  (None, 56, 56, 128)       512       \n",
            " zation)                                                         \n",
            "                                                                 \n",
            " conv_dw_3_relu (ReLU)       (None, 56, 56, 128)       0         \n",
            "                                                                 \n",
            " conv_pw_3 (Conv2D)          (None, 56, 56, 128)       16384     \n",
            "                                                                 \n",
            " conv_pw_3_bn (BatchNormali  (None, 56, 56, 128)       512       \n",
            " zation)                                                         \n",
            "                                                                 \n",
            " conv_pw_3_relu (ReLU)       (None, 56, 56, 128)       0         \n",
            "                                                                 \n",
            " conv_pad_4 (ZeroPadding2D)  (None, 57, 57, 128)       0         \n",
            "                                                                 \n",
            " conv_dw_4 (DepthwiseConv2D  (None, 28, 28, 128)       1152      \n",
            " )                                                               \n",
            "                                                                 \n",
            " conv_dw_4_bn (BatchNormali  (None, 28, 28, 128)       512       \n",
            " zation)                                                         \n",
            "                                                                 \n",
            " conv_dw_4_relu (ReLU)       (None, 28, 28, 128)       0         \n",
            "                                                                 \n",
            " conv_pw_4 (Conv2D)          (None, 28, 28, 256)       32768     \n",
            "                                                                 \n",
            " conv_pw_4_bn (BatchNormali  (None, 28, 28, 256)       1024      \n",
            " zation)                                                         \n",
            "                                                                 \n",
            " conv_pw_4_relu (ReLU)       (None, 28, 28, 256)       0         \n",
            "                                                                 \n",
            " conv_dw_5 (DepthwiseConv2D  (None, 28, 28, 256)       2304      \n",
            " )                                                               \n",
            "                                                                 \n",
            " conv_dw_5_bn (BatchNormali  (None, 28, 28, 256)       1024      \n",
            " zation)                                                         \n",
            "                                                                 \n",
            " conv_dw_5_relu (ReLU)       (None, 28, 28, 256)       0         \n",
            "                                                                 \n",
            " conv_pw_5 (Conv2D)          (None, 28, 28, 256)       65536     \n",
            "                                                                 \n",
            " conv_pw_5_bn (BatchNormali  (None, 28, 28, 256)       1024      \n",
            " zation)                                                         \n",
            "                                                                 \n",
            " conv_pw_5_relu (ReLU)       (None, 28, 28, 256)       0         \n",
            "                                                                 \n",
            " conv_pad_6 (ZeroPadding2D)  (None, 29, 29, 256)       0         \n",
            "                                                                 \n",
            " conv_dw_6 (DepthwiseConv2D  (None, 14, 14, 256)       2304      \n",
            " )                                                               \n",
            "                                                                 \n",
            " conv_dw_6_bn (BatchNormali  (None, 14, 14, 256)       1024      \n",
            " zation)                                                         \n",
            "                                                                 \n",
            " conv_dw_6_relu (ReLU)       (None, 14, 14, 256)       0         \n",
            "                                                                 \n",
            " conv_pw_6 (Conv2D)          (None, 14, 14, 512)       131072    \n",
            "                                                                 \n",
            " conv_pw_6_bn (BatchNormali  (None, 14, 14, 512)       2048      \n",
            " zation)                                                         \n",
            "                                                                 \n",
            " conv_pw_6_relu (ReLU)       (None, 14, 14, 512)       0         \n",
            "                                                                 \n",
            " conv_dw_7 (DepthwiseConv2D  (None, 14, 14, 512)       4608      \n",
            " )                                                               \n",
            "                                                                 \n",
            " conv_dw_7_bn (BatchNormali  (None, 14, 14, 512)       2048      \n",
            " zation)                                                         \n",
            "                                                                 \n",
            " conv_dw_7_relu (ReLU)       (None, 14, 14, 512)       0         \n",
            "                                                                 \n",
            " conv_pw_7 (Conv2D)          (None, 14, 14, 512)       262144    \n",
            "                                                                 \n",
            " conv_pw_7_bn (BatchNormali  (None, 14, 14, 512)       2048      \n",
            " zation)                                                         \n",
            "                                                                 \n",
            " conv_pw_7_relu (ReLU)       (None, 14, 14, 512)       0         \n",
            "                                                                 \n",
            " conv_dw_8 (DepthwiseConv2D  (None, 14, 14, 512)       4608      \n",
            " )                                                               \n",
            "                                                                 \n",
            " conv_dw_8_bn (BatchNormali  (None, 14, 14, 512)       2048      \n",
            " zation)                                                         \n",
            "                                                                 \n",
            " conv_dw_8_relu (ReLU)       (None, 14, 14, 512)       0         \n",
            "                                                                 \n",
            " conv_pw_8 (Conv2D)          (None, 14, 14, 512)       262144    \n",
            "                                                                 \n",
            " conv_pw_8_bn (BatchNormali  (None, 14, 14, 512)       2048      \n",
            " zation)                                                         \n",
            "                                                                 \n",
            " conv_pw_8_relu (ReLU)       (None, 14, 14, 512)       0         \n",
            "                                                                 \n",
            " conv_dw_9 (DepthwiseConv2D  (None, 14, 14, 512)       4608      \n",
            " )                                                               \n",
            "                                                                 \n",
            " conv_dw_9_bn (BatchNormali  (None, 14, 14, 512)       2048      \n",
            " zation)                                                         \n",
            "                                                                 \n",
            " conv_dw_9_relu (ReLU)       (None, 14, 14, 512)       0         \n",
            "                                                                 \n",
            " conv_pw_9 (Conv2D)          (None, 14, 14, 512)       262144    \n",
            "                                                                 \n",
            " conv_pw_9_bn (BatchNormali  (None, 14, 14, 512)       2048      \n",
            " zation)                                                         \n",
            "                                                                 \n",
            " conv_pw_9_relu (ReLU)       (None, 14, 14, 512)       0         \n",
            "                                                                 \n",
            " conv_dw_10 (DepthwiseConv2  (None, 14, 14, 512)       4608      \n",
            " D)                                                              \n",
            "                                                                 \n",
            " conv_dw_10_bn (BatchNormal  (None, 14, 14, 512)       2048      \n",
            " ization)                                                        \n",
            "                                                                 \n",
            " conv_dw_10_relu (ReLU)      (None, 14, 14, 512)       0         \n",
            "                                                                 \n",
            " conv_pw_10 (Conv2D)         (None, 14, 14, 512)       262144    \n",
            "                                                                 \n",
            " conv_pw_10_bn (BatchNormal  (None, 14, 14, 512)       2048      \n",
            " ization)                                                        \n",
            "                                                                 \n",
            " conv_pw_10_relu (ReLU)      (None, 14, 14, 512)       0         \n",
            "                                                                 \n",
            " conv_dw_11 (DepthwiseConv2  (None, 14, 14, 512)       4608      \n",
            " D)                                                              \n",
            "                                                                 \n",
            " conv_dw_11_bn (BatchNormal  (None, 14, 14, 512)       2048      \n",
            " ization)                                                        \n",
            "                                                                 \n",
            " conv_dw_11_relu (ReLU)      (None, 14, 14, 512)       0         \n",
            "                                                                 \n",
            " conv_pw_11 (Conv2D)         (None, 14, 14, 512)       262144    \n",
            "                                                                 \n",
            " conv_pw_11_bn (BatchNormal  (None, 14, 14, 512)       2048      \n",
            " ization)                                                        \n",
            "                                                                 \n",
            " conv_pw_11_relu (ReLU)      (None, 14, 14, 512)       0         \n",
            "                                                                 \n",
            " conv_pad_12 (ZeroPadding2D  (None, 15, 15, 512)       0         \n",
            " )                                                               \n",
            "                                                                 \n",
            " conv_dw_12 (DepthwiseConv2  (None, 7, 7, 512)         4608      \n",
            " D)                                                              \n",
            "                                                                 \n",
            " conv_dw_12_bn (BatchNormal  (None, 7, 7, 512)         2048      \n",
            " ization)                                                        \n",
            "                                                                 \n",
            " conv_dw_12_relu (ReLU)      (None, 7, 7, 512)         0         \n",
            "                                                                 \n",
            " conv_pw_12 (Conv2D)         (None, 7, 7, 1024)        524288    \n",
            "                                                                 \n",
            " conv_pw_12_bn (BatchNormal  (None, 7, 7, 1024)        4096      \n",
            " ization)                                                        \n",
            "                                                                 \n",
            " conv_pw_12_relu (ReLU)      (None, 7, 7, 1024)        0         \n",
            "                                                                 \n",
            " conv_dw_13 (DepthwiseConv2  (None, 7, 7, 1024)        9216      \n",
            " D)                                                              \n",
            "                                                                 \n",
            " conv_dw_13_bn (BatchNormal  (None, 7, 7, 1024)        4096      \n",
            " ization)                                                        \n",
            "                                                                 \n",
            " conv_dw_13_relu (ReLU)      (None, 7, 7, 1024)        0         \n",
            "                                                                 \n",
            " conv_pw_13 (Conv2D)         (None, 7, 7, 1024)        1048576   \n",
            "                                                                 \n",
            " conv_pw_13_bn (BatchNormal  (None, 7, 7, 1024)        4096      \n",
            " ization)                                                        \n",
            "                                                                 \n",
            " conv_pw_13_relu (ReLU)      (None, 7, 7, 1024)        0         \n",
            "                                                                 \n",
            " flatten (Flatten)           (None, 50176)             0         \n",
            "                                                                 \n",
            " dense (Dense)               (None, 26)                1304602   \n",
            "                                                                 \n",
            "=================================================================\n",
            "Total params: 4533466 (17.29 MB)\n",
            "Trainable params: 1304602 (4.98 MB)\n",
            "Non-trainable params: 3228864 (12.32 MB)\n",
            "_________________________________________________________________\n"
          ]
        }
      ]
    },
    {
      "cell_type": "markdown",
      "source": [
        "## **5. Re-Training**"
      ],
      "metadata": {
        "id": "FdknwrWo_Ejb"
      }
    },
    {
      "cell_type": "code",
      "source": [
        "model_fit = model.fit(training_set, epochs = 50, #itteration for training\n",
        "                     validation_data = validation_set)"
      ],
      "metadata": {
        "colab": {
          "base_uri": "https://localhost:8080/"
        },
        "id": "_HJoVGqYvKDH",
        "outputId": "11f35971-c504-4fb0-f3ce-1f08737d16cb"
      },
      "execution_count": null,
      "outputs": [
        {
          "output_type": "stream",
          "name": "stdout",
          "text": [
            "Epoch 1/50\n",
            "3108/3108 [==============================] - 117s 36ms/step - loss: 32.1019 - accuracy: 0.5042 - val_loss: 20.5939 - val_accuracy: 0.7169\n",
            "Epoch 2/50\n",
            "3108/3108 [==============================] - 107s 34ms/step - loss: 8.4516 - accuracy: 0.8710 - val_loss: 19.5319 - val_accuracy: 0.7568\n",
            "Epoch 3/50\n",
            "3108/3108 [==============================] - 108s 35ms/step - loss: 6.3941 - accuracy: 0.9048 - val_loss: 19.9851 - val_accuracy: 0.7671\n",
            "Epoch 4/50\n",
            "3108/3108 [==============================] - 115s 37ms/step - loss: 5.3305 - accuracy: 0.9353 - val_loss: 25.2187 - val_accuracy: 0.7593\n",
            "Epoch 5/50\n",
            "3108/3108 [==============================] - 108s 35ms/step - loss: 2.5190 - accuracy: 0.9604 - val_loss: 29.4820 - val_accuracy: 0.7645\n",
            "Epoch 6/50\n",
            "3108/3108 [==============================] - 109s 35ms/step - loss: 2.5246 - accuracy: 0.9675 - val_loss: 22.2477 - val_accuracy: 0.7992\n",
            "Epoch 7/50\n",
            "3108/3108 [==============================] - 107s 34ms/step - loss: 2.7032 - accuracy: 0.9633 - val_loss: 19.4215 - val_accuracy: 0.8263\n",
            "Epoch 8/50\n",
            "3108/3108 [==============================] - 109s 35ms/step - loss: 2.0727 - accuracy: 0.9733 - val_loss: 28.2796 - val_accuracy: 0.7696\n",
            "Epoch 9/50\n",
            "3108/3108 [==============================] - 107s 34ms/step - loss: 1.3262 - accuracy: 0.9833 - val_loss: 22.8076 - val_accuracy: 0.8237\n",
            "Epoch 10/50\n",
            "3108/3108 [==============================] - 107s 34ms/step - loss: 1.3086 - accuracy: 0.9839 - val_loss: 22.7442 - val_accuracy: 0.8108\n",
            "Epoch 11/50\n",
            "3108/3108 [==============================] - 108s 35ms/step - loss: 0.9208 - accuracy: 0.9829 - val_loss: 17.5810 - val_accuracy: 0.8443\n",
            "Epoch 12/50\n",
            "3108/3108 [==============================] - 107s 34ms/step - loss: 1.1076 - accuracy: 0.9833 - val_loss: 24.6985 - val_accuracy: 0.8057\n",
            "Epoch 13/50\n",
            "3108/3108 [==============================] - 107s 35ms/step - loss: 1.1134 - accuracy: 0.9862 - val_loss: 20.8916 - val_accuracy: 0.8314\n",
            "Epoch 14/50\n",
            "3108/3108 [==============================] - 107s 34ms/step - loss: 0.3395 - accuracy: 0.9932 - val_loss: 16.5405 - val_accuracy: 0.8584\n",
            "Epoch 15/50\n",
            "3108/3108 [==============================] - 115s 37ms/step - loss: 0.2021 - accuracy: 0.9955 - val_loss: 26.5374 - val_accuracy: 0.8018\n",
            "Epoch 16/50\n",
            "3108/3108 [==============================] - 109s 35ms/step - loss: 0.5748 - accuracy: 0.9884 - val_loss: 25.3611 - val_accuracy: 0.8263\n",
            "Epoch 17/50\n",
            "3108/3108 [==============================] - 110s 36ms/step - loss: 0.6326 - accuracy: 0.9913 - val_loss: 18.0809 - val_accuracy: 0.8571\n",
            "Epoch 18/50\n",
            "3108/3108 [==============================] - 111s 36ms/step - loss: 0.4853 - accuracy: 0.9907 - val_loss: 18.9261 - val_accuracy: 0.8584\n",
            "Epoch 19/50\n",
            "3108/3108 [==============================] - 108s 35ms/step - loss: 0.2055 - accuracy: 0.9968 - val_loss: 19.6179 - val_accuracy: 0.8546\n",
            "Epoch 20/50\n",
            "3108/3108 [==============================] - 109s 35ms/step - loss: 0.3008 - accuracy: 0.9974 - val_loss: 18.1692 - val_accuracy: 0.8649\n",
            "Epoch 21/50\n",
            "3108/3108 [==============================] - 107s 34ms/step - loss: 0.0000e+00 - accuracy: 1.0000 - val_loss: 18.1692 - val_accuracy: 0.8649\n",
            "Epoch 22/50\n",
            "3108/3108 [==============================] - 110s 35ms/step - loss: 0.0000e+00 - accuracy: 1.0000 - val_loss: 18.1692 - val_accuracy: 0.8649\n",
            "Epoch 23/50\n",
            "3108/3108 [==============================] - 108s 35ms/step - loss: 0.0000e+00 - accuracy: 1.0000 - val_loss: 18.1692 - val_accuracy: 0.8649\n",
            "Epoch 24/50\n",
            "3108/3108 [==============================] - 110s 35ms/step - loss: 0.0000e+00 - accuracy: 1.0000 - val_loss: 18.1692 - val_accuracy: 0.8649\n",
            "Epoch 25/50\n",
            "3108/3108 [==============================] - 108s 35ms/step - loss: 0.0000e+00 - accuracy: 1.0000 - val_loss: 18.1692 - val_accuracy: 0.8649\n",
            "Epoch 26/50\n",
            "3108/3108 [==============================] - 107s 35ms/step - loss: 0.0000e+00 - accuracy: 1.0000 - val_loss: 18.1692 - val_accuracy: 0.8649\n",
            "Epoch 27/50\n",
            "3108/3108 [==============================] - 108s 35ms/step - loss: 0.0000e+00 - accuracy: 1.0000 - val_loss: 18.1692 - val_accuracy: 0.8649\n",
            "Epoch 28/50\n",
            "3108/3108 [==============================] - 107s 34ms/step - loss: 0.0000e+00 - accuracy: 1.0000 - val_loss: 18.1692 - val_accuracy: 0.8649\n",
            "Epoch 29/50\n",
            "3108/3108 [==============================] - 107s 35ms/step - loss: 0.0000e+00 - accuracy: 1.0000 - val_loss: 18.1692 - val_accuracy: 0.8649\n",
            "Epoch 30/50\n",
            "3108/3108 [==============================] - 107s 35ms/step - loss: 0.0000e+00 - accuracy: 1.0000 - val_loss: 18.1692 - val_accuracy: 0.8649\n",
            "Epoch 31/50\n",
            "3108/3108 [==============================] - 108s 35ms/step - loss: 0.0000e+00 - accuracy: 1.0000 - val_loss: 18.1692 - val_accuracy: 0.8649\n",
            "Epoch 32/50\n",
            "3108/3108 [==============================] - 108s 35ms/step - loss: 0.0000e+00 - accuracy: 1.0000 - val_loss: 18.1692 - val_accuracy: 0.8649\n",
            "Epoch 33/50\n",
            "3108/3108 [==============================] - 109s 35ms/step - loss: 0.0000e+00 - accuracy: 1.0000 - val_loss: 18.1692 - val_accuracy: 0.8649\n",
            "Epoch 34/50\n",
            "3108/3108 [==============================] - 112s 36ms/step - loss: 0.0000e+00 - accuracy: 1.0000 - val_loss: 18.1692 - val_accuracy: 0.8649\n",
            "Epoch 35/50\n",
            "3108/3108 [==============================] - 113s 36ms/step - loss: 0.0000e+00 - accuracy: 1.0000 - val_loss: 18.1692 - val_accuracy: 0.8649\n",
            "Epoch 36/50\n",
            "3108/3108 [==============================] - 115s 37ms/step - loss: 0.0000e+00 - accuracy: 1.0000 - val_loss: 18.1692 - val_accuracy: 0.8649\n",
            "Epoch 37/50\n",
            "3108/3108 [==============================] - 114s 37ms/step - loss: 0.0000e+00 - accuracy: 1.0000 - val_loss: 18.1692 - val_accuracy: 0.8649\n",
            "Epoch 38/50\n",
            "3108/3108 [==============================] - 114s 37ms/step - loss: 0.0000e+00 - accuracy: 1.0000 - val_loss: 18.1692 - val_accuracy: 0.8649\n",
            "Epoch 39/50\n",
            "3108/3108 [==============================] - 108s 35ms/step - loss: 0.0000e+00 - accuracy: 1.0000 - val_loss: 18.1692 - val_accuracy: 0.8649\n",
            "Epoch 40/50\n",
            "3108/3108 [==============================] - 109s 35ms/step - loss: 0.0000e+00 - accuracy: 1.0000 - val_loss: 18.1692 - val_accuracy: 0.8649\n",
            "Epoch 41/50\n",
            "3108/3108 [==============================] - 107s 34ms/step - loss: 0.0000e+00 - accuracy: 1.0000 - val_loss: 18.1692 - val_accuracy: 0.8649\n",
            "Epoch 42/50\n",
            "3108/3108 [==============================] - 111s 36ms/step - loss: 0.0000e+00 - accuracy: 1.0000 - val_loss: 18.1692 - val_accuracy: 0.8649\n",
            "Epoch 43/50\n",
            "3108/3108 [==============================] - 106s 34ms/step - loss: 0.0000e+00 - accuracy: 1.0000 - val_loss: 18.1692 - val_accuracy: 0.8649\n",
            "Epoch 44/50\n",
            "3108/3108 [==============================] - 109s 35ms/step - loss: 0.0000e+00 - accuracy: 1.0000 - val_loss: 18.1692 - val_accuracy: 0.8649\n",
            "Epoch 45/50\n",
            "3108/3108 [==============================] - 106s 34ms/step - loss: 0.0000e+00 - accuracy: 1.0000 - val_loss: 18.1692 - val_accuracy: 0.8649\n",
            "Epoch 46/50\n",
            "3108/3108 [==============================] - 107s 34ms/step - loss: 0.0000e+00 - accuracy: 1.0000 - val_loss: 18.1692 - val_accuracy: 0.8649\n",
            "Epoch 47/50\n",
            "3108/3108 [==============================] - 108s 35ms/step - loss: 0.0000e+00 - accuracy: 1.0000 - val_loss: 18.1692 - val_accuracy: 0.8649\n",
            "Epoch 48/50\n",
            "3108/3108 [==============================] - 107s 34ms/step - loss: 0.0000e+00 - accuracy: 1.0000 - val_loss: 18.1692 - val_accuracy: 0.8649\n",
            "Epoch 49/50\n",
            "3108/3108 [==============================] - 110s 35ms/step - loss: 0.0000e+00 - accuracy: 1.0000 - val_loss: 18.1692 - val_accuracy: 0.8649\n",
            "Epoch 50/50\n",
            "3108/3108 [==============================] - 107s 35ms/step - loss: 0.0000e+00 - accuracy: 1.0000 - val_loss: 18.1692 - val_accuracy: 0.8649\n"
          ]
        }
      ]
    },
    {
      "cell_type": "code",
      "source": [
        "plt.plot(model_fit.history['loss'], '',label='train loss')\n",
        "plt.plot(model_fit.history['val_loss'], '' ,label='val loss')\n",
        "plt.legend()\n",
        "plt.show()\n",
        "plt.savefig('LossVal_loss')"
      ],
      "metadata": {
        "colab": {
          "base_uri": "https://localhost:8080/",
          "height": 448
        },
        "id": "iqvqiok3vm_s",
        "outputId": "6df5ac5f-69f8-4359-89c4-24a4fcdb5b81"
      },
      "execution_count": null,
      "outputs": [
        {
          "output_type": "display_data",
          "data": {
            "text/plain": [
              "<Figure size 640x480 with 1 Axes>"
            ],
            "image/png": "[encoded data removed]"
          },
          "metadata": {}
        },
        {
          "output_type": "display_data",
          "data": {
            "text/plain": [
              "<Figure size 640x480 with 0 Axes>"
            ]
          },
          "metadata": {}
        }
      ]
    },
    {
      "cell_type": "code",
      "source": [
        "# accuracies\n",
        "plt.plot(model_fit.history['accuracy'], '',label='train accuracy')\n",
        "plt.plot(model_fit.history['val_accuracy'], '',label='val accuracy')\n",
        "plt.legend()\n",
        "plt.show()\n",
        "plt.savefig('AccVal_acc')"
      ],
      "metadata": {
        "colab": {
          "base_uri": "https://localhost:8080/",
          "height": 448
        },
        "id": "tsLtfi4UvrdL",
        "outputId": "062dd4f4-2822-4069-800e-c74ac96f8a5f"
      },
      "execution_count": null,
      "outputs": [
        {
          "output_type": "display_data",
          "data": {
            "text/plain": [
              "<Figure size 640x480 with 1 Axes>"
            ],
            "image/png": "[encoded data removed]"
          },
          "metadata": {}
        },
        {
          "output_type": "display_data",
          "data": {
            "text/plain": [
              "<Figure size 640x480 with 0 Axes>"
            ]
          },
          "metadata": {}
        }
      ]
    },
    {
      "cell_type": "code",
      "source": [
        "model.save('modelMobileNet.h5')"
      ],
      "metadata": {
        "id": "mg76_e7HYGkr"
      },
      "execution_count": null,
      "outputs": []
    },
    {
      "cell_type": "code",
      "source": [
        "converter = tf.lite.TFLiteConverter.from_keras_model(model)\n",
        "tflite_model = converter.convert()\n",
        "\n",
        "with open('modelMobileNet.tflite', 'wb') as f:\n",
        "    f.write(tflite_model)"
      ],
      "metadata": {
        "id": "OqjJHUXSYZum"
      },
      "execution_count": null,
      "outputs": []
    },
    {
      "cell_type": "code",
      "source": [
        "uploaded = files.upload()\n",
        "labels = training_set.class_indices.keys()\n",
        "\n",
        "for paths in uploaded.keys():\n",
        "    path = paths\n",
        "    img = image.load_img(path, target_size=(224, 224))\n",
        "    x = image.img_to_array(img)\n",
        "    x = np.expand_dims(x, axis=0)\n",
        "    x = tf.keras.applications.mobilenet.preprocess_input(x)\n",
        "\n",
        "    images = np.vstack([x])\n",
        "    proba = model.predict(images)[0]\n",
        "\n",
        "    plt.imshow(img)\n",
        "    plt.axis('off')\n",
        "    plt.show()\n",
        "\n",
        "    for (label, p) in zip(labels, proba):\n",
        "        print(\"{}: {:.2f}%\".format(label, p * 100))\n",
        "\n",
        "import os\n",
        "os.remove(path)"
      ],
      "metadata": {
        "colab": {
          "base_uri": "https://localhost:8080/",
          "height": 219
        },
        "id": "SRzeSKYgvvQq",
        "outputId": "27bc00c1-34a3-400a-bd1c-0e8124c78fba"
      },
      "execution_count": null,
      "outputs": [
        {
          "output_type": "error",
          "ename": "NameError",
          "evalue": "name 'files' is not defined",
          "traceback": [
            "\u001b[0;31m---------------------------------------------------------------------------\u001b[0m",
            "\u001b[0;31mNameError\u001b[0m                                 Traceback (most recent call last)",
            "\u001b[0;32m<ipython-input-1-2ddc79ec946d>\u001b[0m in \u001b[0;36m<cell line: 1>\u001b[0;34m()\u001b[0m\n\u001b[0;32m----> 1\u001b[0;31m \u001b[0muploaded\u001b[0m \u001b[0;34m=\u001b[0m \u001b[0mfiles\u001b[0m\u001b[0;34m.\u001b[0m\u001b[0mupload\u001b[0m\u001b[0;34m(\u001b[0m\u001b[0;34m)\u001b[0m\u001b[0;34m\u001b[0m\u001b[0;34m\u001b[0m\u001b[0m\n\u001b[0m\u001b[1;32m      2\u001b[0m \u001b[0mlabels\u001b[0m \u001b[0;34m=\u001b[0m \u001b[0mtraining_set\u001b[0m\u001b[0;34m.\u001b[0m\u001b[0mclass_indices\u001b[0m\u001b[0;34m.\u001b[0m\u001b[0mkeys\u001b[0m\u001b[0;34m(\u001b[0m\u001b[0;34m)\u001b[0m\u001b[0;34m\u001b[0m\u001b[0;34m\u001b[0m\u001b[0m\n\u001b[1;32m      3\u001b[0m \u001b[0;34m\u001b[0m\u001b[0m\n\u001b[1;32m      4\u001b[0m \u001b[0;32mfor\u001b[0m \u001b[0mpaths\u001b[0m \u001b[0;32min\u001b[0m \u001b[0muploaded\u001b[0m\u001b[0;34m.\u001b[0m\u001b[0mkeys\u001b[0m\u001b[0;34m(\u001b[0m\u001b[0;34m)\u001b[0m\u001b[0;34m:\u001b[0m\u001b[0;34m\u001b[0m\u001b[0;34m\u001b[0m\u001b[0m\n\u001b[1;32m      5\u001b[0m     \u001b[0mpath\u001b[0m \u001b[0;34m=\u001b[0m \u001b[0mpaths\u001b[0m\u001b[0;34m\u001b[0m\u001b[0;34m\u001b[0m\u001b[0m\n",
            "\u001b[0;31mNameError\u001b[0m: name 'files' is not defined"
          ]
        }
      ]
    }
  ]
}